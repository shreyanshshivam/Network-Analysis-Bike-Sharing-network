{
 "cells": [
  {
   "cell_type": "code",
   "execution_count": 3,
   "metadata": {},
   "outputs": [],
   "source": [
    "import numpy as np\n",
    "import matplotlib.pyplot as plt\n",
    "import pandas as pd\n",
    "from pandas import *\n",
    "import seaborn as sns\n",
    "from matplotlib import rcParams\n",
    "import matplotlib as mpl\n",
    "import datetime as dt"
   ]
  },
  {
   "cell_type": "markdown",
   "metadata": {},
   "source": [
    "### Salient Features of this model\n",
    "- Algorithms used for Network Classification: Majority Voting and Label Averaging with different sets of iterations\n",
    "- Majority Voting involves predicting the unknown labels of unlabeled nodes/stations by considering the labels of the neighboring nodes/stations after a chosen number of iterations (100, 200 & 500 in this case)\n",
    "- Label Averaging involves averaging the scores of the neighboring nodes from the previous iteration\n",
    "- Accuracy and F1 scores were used as metrics to compare the performances of these algorithms"
   ]
  },
  {
   "cell_type": "markdown",
   "metadata": {},
   "source": [
    "Some of the data cleaning steps used here are derived from the Master File under the EDA section of the codebook."
   ]
  },
  {
   "cell_type": "code",
   "execution_count": 4,
   "metadata": {},
   "outputs": [],
   "source": [
    "#Import data file\n",
    "df = pd.read_csv('Input File/201912-citibike-tripdata.csv')"
   ]
  },
  {
   "cell_type": "code",
   "execution_count": 5,
   "metadata": {},
   "outputs": [
    {
     "data": {
      "text/html": [
       "<div>\n",
       "<style scoped>\n",
       "    .dataframe tbody tr th:only-of-type {\n",
       "        vertical-align: middle;\n",
       "    }\n",
       "\n",
       "    .dataframe tbody tr th {\n",
       "        vertical-align: top;\n",
       "    }\n",
       "\n",
       "    .dataframe thead th {\n",
       "        text-align: right;\n",
       "    }\n",
       "</style>\n",
       "<table border=\"1\" class=\"dataframe\">\n",
       "  <thead>\n",
       "    <tr style=\"text-align: right;\">\n",
       "      <th></th>\n",
       "      <th>tripduration</th>\n",
       "      <th>starttime</th>\n",
       "      <th>stoptime</th>\n",
       "      <th>start station id</th>\n",
       "      <th>start station name</th>\n",
       "      <th>start station latitude</th>\n",
       "      <th>start station longitude</th>\n",
       "      <th>end station id</th>\n",
       "      <th>end station name</th>\n",
       "      <th>end station latitude</th>\n",
       "      <th>end station longitude</th>\n",
       "      <th>bikeid</th>\n",
       "      <th>usertype</th>\n",
       "      <th>birth year</th>\n",
       "      <th>gender</th>\n",
       "    </tr>\n",
       "  </thead>\n",
       "  <tbody>\n",
       "    <tr>\n",
       "      <th>0</th>\n",
       "      <td>602</td>\n",
       "      <td>2019-12-01 00:00:05.5640</td>\n",
       "      <td>2019-12-01 00:10:07.8180</td>\n",
       "      <td>3382</td>\n",
       "      <td>Carroll St &amp; Smith St</td>\n",
       "      <td>40.680611</td>\n",
       "      <td>-73.994758</td>\n",
       "      <td>3304</td>\n",
       "      <td>6 Ave &amp; 9 St</td>\n",
       "      <td>40.668127</td>\n",
       "      <td>-73.983776</td>\n",
       "      <td>41932</td>\n",
       "      <td>Subscriber</td>\n",
       "      <td>1970</td>\n",
       "      <td>1</td>\n",
       "    </tr>\n",
       "    <tr>\n",
       "      <th>1</th>\n",
       "      <td>1206</td>\n",
       "      <td>2019-12-01 00:00:10.9630</td>\n",
       "      <td>2019-12-01 00:20:17.8820</td>\n",
       "      <td>362</td>\n",
       "      <td>Broadway &amp; W 37 St</td>\n",
       "      <td>40.751726</td>\n",
       "      <td>-73.987535</td>\n",
       "      <td>500</td>\n",
       "      <td>Broadway &amp; W 51 St</td>\n",
       "      <td>40.762288</td>\n",
       "      <td>-73.983362</td>\n",
       "      <td>18869</td>\n",
       "      <td>Customer</td>\n",
       "      <td>1999</td>\n",
       "      <td>1</td>\n",
       "    </tr>\n",
       "    <tr>\n",
       "      <th>2</th>\n",
       "      <td>723</td>\n",
       "      <td>2019-12-01 00:00:11.8180</td>\n",
       "      <td>2019-12-01 00:12:14.8310</td>\n",
       "      <td>146</td>\n",
       "      <td>Hudson St &amp; Reade St</td>\n",
       "      <td>40.716250</td>\n",
       "      <td>-74.009106</td>\n",
       "      <td>238</td>\n",
       "      <td>Bank St &amp; Washington St</td>\n",
       "      <td>40.736197</td>\n",
       "      <td>-74.008592</td>\n",
       "      <td>15334</td>\n",
       "      <td>Subscriber</td>\n",
       "      <td>1997</td>\n",
       "      <td>1</td>\n",
       "    </tr>\n",
       "    <tr>\n",
       "      <th>3</th>\n",
       "      <td>404</td>\n",
       "      <td>2019-12-01 00:00:12.2200</td>\n",
       "      <td>2019-12-01 00:06:56.8860</td>\n",
       "      <td>3834</td>\n",
       "      <td>Irving Ave &amp; Halsey St</td>\n",
       "      <td>40.694670</td>\n",
       "      <td>-73.906630</td>\n",
       "      <td>3827</td>\n",
       "      <td>Halsey St &amp; Broadway</td>\n",
       "      <td>40.685650</td>\n",
       "      <td>-73.915640</td>\n",
       "      <td>41692</td>\n",
       "      <td>Customer</td>\n",
       "      <td>1995</td>\n",
       "      <td>1</td>\n",
       "    </tr>\n",
       "    <tr>\n",
       "      <th>4</th>\n",
       "      <td>1059</td>\n",
       "      <td>2019-12-01 00:00:14.7230</td>\n",
       "      <td>2019-12-01 00:17:54.1860</td>\n",
       "      <td>500</td>\n",
       "      <td>Broadway &amp; W 51 St</td>\n",
       "      <td>40.762288</td>\n",
       "      <td>-73.983362</td>\n",
       "      <td>3323</td>\n",
       "      <td>W 106 St &amp; Central Park West</td>\n",
       "      <td>40.798186</td>\n",
       "      <td>-73.960591</td>\n",
       "      <td>40156</td>\n",
       "      <td>Subscriber</td>\n",
       "      <td>1961</td>\n",
       "      <td>1</td>\n",
       "    </tr>\n",
       "  </tbody>\n",
       "</table>\n",
       "</div>"
      ],
      "text/plain": [
       "   tripduration                 starttime                  stoptime  \\\n",
       "0           602  2019-12-01 00:00:05.5640  2019-12-01 00:10:07.8180   \n",
       "1          1206  2019-12-01 00:00:10.9630  2019-12-01 00:20:17.8820   \n",
       "2           723  2019-12-01 00:00:11.8180  2019-12-01 00:12:14.8310   \n",
       "3           404  2019-12-01 00:00:12.2200  2019-12-01 00:06:56.8860   \n",
       "4          1059  2019-12-01 00:00:14.7230  2019-12-01 00:17:54.1860   \n",
       "\n",
       "   start station id      start station name  start station latitude  \\\n",
       "0              3382   Carroll St & Smith St               40.680611   \n",
       "1               362      Broadway & W 37 St               40.751726   \n",
       "2               146    Hudson St & Reade St               40.716250   \n",
       "3              3834  Irving Ave & Halsey St               40.694670   \n",
       "4               500      Broadway & W 51 St               40.762288   \n",
       "\n",
       "   start station longitude  end station id              end station name  \\\n",
       "0               -73.994758            3304                  6 Ave & 9 St   \n",
       "1               -73.987535             500            Broadway & W 51 St   \n",
       "2               -74.009106             238       Bank St & Washington St   \n",
       "3               -73.906630            3827          Halsey St & Broadway   \n",
       "4               -73.983362            3323  W 106 St & Central Park West   \n",
       "\n",
       "   end station latitude  end station longitude  bikeid    usertype  \\\n",
       "0             40.668127             -73.983776   41932  Subscriber   \n",
       "1             40.762288             -73.983362   18869    Customer   \n",
       "2             40.736197             -74.008592   15334  Subscriber   \n",
       "3             40.685650             -73.915640   41692    Customer   \n",
       "4             40.798186             -73.960591   40156  Subscriber   \n",
       "\n",
       "   birth year  gender  \n",
       "0        1970       1  \n",
       "1        1999       1  \n",
       "2        1997       1  \n",
       "3        1995       1  \n",
       "4        1961       1  "
      ]
     },
     "execution_count": 5,
     "metadata": {},
     "output_type": "execute_result"
    }
   ],
   "source": [
    "#Check data frame\n",
    "df.head()"
   ]
  },
  {
   "cell_type": "code",
   "execution_count": 6,
   "metadata": {},
   "outputs": [
    {
     "data": {
      "text/html": [
       "<div>\n",
       "<style scoped>\n",
       "    .dataframe tbody tr th:only-of-type {\n",
       "        vertical-align: middle;\n",
       "    }\n",
       "\n",
       "    .dataframe tbody tr th {\n",
       "        vertical-align: top;\n",
       "    }\n",
       "\n",
       "    .dataframe thead th {\n",
       "        text-align: right;\n",
       "    }\n",
       "</style>\n",
       "<table border=\"1\" class=\"dataframe\">\n",
       "  <thead>\n",
       "    <tr style=\"text-align: right;\">\n",
       "      <th></th>\n",
       "      <th>Total</th>\n",
       "      <th>Percent</th>\n",
       "    </tr>\n",
       "  </thead>\n",
       "  <tbody>\n",
       "    <tr>\n",
       "      <th>gender</th>\n",
       "      <td>0</td>\n",
       "      <td>0.0</td>\n",
       "    </tr>\n",
       "    <tr>\n",
       "      <th>birth year</th>\n",
       "      <td>0</td>\n",
       "      <td>0.0</td>\n",
       "    </tr>\n",
       "    <tr>\n",
       "      <th>usertype</th>\n",
       "      <td>0</td>\n",
       "      <td>0.0</td>\n",
       "    </tr>\n",
       "    <tr>\n",
       "      <th>bikeid</th>\n",
       "      <td>0</td>\n",
       "      <td>0.0</td>\n",
       "    </tr>\n",
       "    <tr>\n",
       "      <th>end station longitude</th>\n",
       "      <td>0</td>\n",
       "      <td>0.0</td>\n",
       "    </tr>\n",
       "    <tr>\n",
       "      <th>end station latitude</th>\n",
       "      <td>0</td>\n",
       "      <td>0.0</td>\n",
       "    </tr>\n",
       "    <tr>\n",
       "      <th>end station name</th>\n",
       "      <td>0</td>\n",
       "      <td>0.0</td>\n",
       "    </tr>\n",
       "    <tr>\n",
       "      <th>end station id</th>\n",
       "      <td>0</td>\n",
       "      <td>0.0</td>\n",
       "    </tr>\n",
       "    <tr>\n",
       "      <th>start station longitude</th>\n",
       "      <td>0</td>\n",
       "      <td>0.0</td>\n",
       "    </tr>\n",
       "    <tr>\n",
       "      <th>start station latitude</th>\n",
       "      <td>0</td>\n",
       "      <td>0.0</td>\n",
       "    </tr>\n",
       "    <tr>\n",
       "      <th>start station name</th>\n",
       "      <td>0</td>\n",
       "      <td>0.0</td>\n",
       "    </tr>\n",
       "    <tr>\n",
       "      <th>start station id</th>\n",
       "      <td>0</td>\n",
       "      <td>0.0</td>\n",
       "    </tr>\n",
       "    <tr>\n",
       "      <th>stoptime</th>\n",
       "      <td>0</td>\n",
       "      <td>0.0</td>\n",
       "    </tr>\n",
       "    <tr>\n",
       "      <th>starttime</th>\n",
       "      <td>0</td>\n",
       "      <td>0.0</td>\n",
       "    </tr>\n",
       "    <tr>\n",
       "      <th>tripduration</th>\n",
       "      <td>0</td>\n",
       "      <td>0.0</td>\n",
       "    </tr>\n",
       "  </tbody>\n",
       "</table>\n",
       "</div>"
      ],
      "text/plain": [
       "                         Total  Percent\n",
       "gender                       0      0.0\n",
       "birth year                   0      0.0\n",
       "usertype                     0      0.0\n",
       "bikeid                       0      0.0\n",
       "end station longitude        0      0.0\n",
       "end station latitude         0      0.0\n",
       "end station name             0      0.0\n",
       "end station id               0      0.0\n",
       "start station longitude      0      0.0\n",
       "start station latitude       0      0.0\n",
       "start station name           0      0.0\n",
       "start station id             0      0.0\n",
       "stoptime                     0      0.0\n",
       "starttime                    0      0.0\n",
       "tripduration                 0      0.0"
      ]
     },
     "execution_count": 6,
     "metadata": {},
     "output_type": "execute_result"
    }
   ],
   "source": [
    "#Check percentage of missing data in the dataset\n",
    "def missing_data(df):\n",
    "    total = df.isnull().sum().sort_values(ascending=False)\n",
    "    percent = (df.isnull().sum()/df.isnull().count()*100).sort_values(ascending=False)\n",
    "    missing_data = pd.concat([total, percent], axis=1, keys=['Total', 'Percent'])\n",
    "    return missing_data\n",
    "missing_data(df)"
   ]
  },
  {
   "cell_type": "code",
   "execution_count": 7,
   "metadata": {},
   "outputs": [],
   "source": [
    "#Drop missing values \n",
    "df.dropna(inplace = True)"
   ]
  },
  {
   "cell_type": "code",
   "execution_count": 8,
   "metadata": {},
   "outputs": [
    {
     "data": {
      "text/html": [
       "<div>\n",
       "<style scoped>\n",
       "    .dataframe tbody tr th:only-of-type {\n",
       "        vertical-align: middle;\n",
       "    }\n",
       "\n",
       "    .dataframe tbody tr th {\n",
       "        vertical-align: top;\n",
       "    }\n",
       "\n",
       "    .dataframe thead th {\n",
       "        text-align: right;\n",
       "    }\n",
       "</style>\n",
       "<table border=\"1\" class=\"dataframe\">\n",
       "  <thead>\n",
       "    <tr style=\"text-align: right;\">\n",
       "      <th></th>\n",
       "      <th>tripduration</th>\n",
       "      <th>start station id</th>\n",
       "      <th>start station latitude</th>\n",
       "      <th>start station longitude</th>\n",
       "      <th>end station id</th>\n",
       "      <th>end station latitude</th>\n",
       "      <th>end station longitude</th>\n",
       "      <th>bikeid</th>\n",
       "      <th>birth year</th>\n",
       "    </tr>\n",
       "  </thead>\n",
       "  <tbody>\n",
       "    <tr>\n",
       "      <th>count</th>\n",
       "      <td>955210.0</td>\n",
       "      <td>955210.0</td>\n",
       "      <td>955210.0</td>\n",
       "      <td>955210.0</td>\n",
       "      <td>955210.0</td>\n",
       "      <td>955210.0</td>\n",
       "      <td>955210.0</td>\n",
       "      <td>955210.0</td>\n",
       "      <td>955210.0</td>\n",
       "    </tr>\n",
       "    <tr>\n",
       "      <th>mean</th>\n",
       "      <td>831.0</td>\n",
       "      <td>1667.0</td>\n",
       "      <td>41.0</td>\n",
       "      <td>-74.0</td>\n",
       "      <td>1647.0</td>\n",
       "      <td>41.0</td>\n",
       "      <td>-74.0</td>\n",
       "      <td>32916.0</td>\n",
       "      <td>1979.0</td>\n",
       "    </tr>\n",
       "    <tr>\n",
       "      <th>std</th>\n",
       "      <td>10786.0</td>\n",
       "      <td>1493.0</td>\n",
       "      <td>0.0</td>\n",
       "      <td>0.0</td>\n",
       "      <td>1491.0</td>\n",
       "      <td>0.0</td>\n",
       "      <td>0.0</td>\n",
       "      <td>7997.0</td>\n",
       "      <td>13.0</td>\n",
       "    </tr>\n",
       "    <tr>\n",
       "      <th>min</th>\n",
       "      <td>61.0</td>\n",
       "      <td>72.0</td>\n",
       "      <td>41.0</td>\n",
       "      <td>-74.0</td>\n",
       "      <td>72.0</td>\n",
       "      <td>41.0</td>\n",
       "      <td>-74.0</td>\n",
       "      <td>14529.0</td>\n",
       "      <td>1885.0</td>\n",
       "    </tr>\n",
       "    <tr>\n",
       "      <th>25%</th>\n",
       "      <td>320.0</td>\n",
       "      <td>380.0</td>\n",
       "      <td>41.0</td>\n",
       "      <td>-74.0</td>\n",
       "      <td>379.0</td>\n",
       "      <td>41.0</td>\n",
       "      <td>-74.0</td>\n",
       "      <td>28716.0</td>\n",
       "      <td>1969.0</td>\n",
       "    </tr>\n",
       "    <tr>\n",
       "      <th>50%</th>\n",
       "      <td>522.0</td>\n",
       "      <td>509.0</td>\n",
       "      <td>41.0</td>\n",
       "      <td>-74.0</td>\n",
       "      <td>507.0</td>\n",
       "      <td>41.0</td>\n",
       "      <td>-74.0</td>\n",
       "      <td>34101.0</td>\n",
       "      <td>1982.0</td>\n",
       "    </tr>\n",
       "    <tr>\n",
       "      <th>75%</th>\n",
       "      <td>876.0</td>\n",
       "      <td>3311.0</td>\n",
       "      <td>41.0</td>\n",
       "      <td>-74.0</td>\n",
       "      <td>3307.0</td>\n",
       "      <td>41.0</td>\n",
       "      <td>-74.0</td>\n",
       "      <td>39839.0</td>\n",
       "      <td>1990.0</td>\n",
       "    </tr>\n",
       "    <tr>\n",
       "      <th>max</th>\n",
       "      <td>3304262.0</td>\n",
       "      <td>3911.0</td>\n",
       "      <td>41.0</td>\n",
       "      <td>-74.0</td>\n",
       "      <td>3911.0</td>\n",
       "      <td>41.0</td>\n",
       "      <td>-74.0</td>\n",
       "      <td>42046.0</td>\n",
       "      <td>2003.0</td>\n",
       "    </tr>\n",
       "  </tbody>\n",
       "</table>\n",
       "</div>"
      ],
      "text/plain": [
       "       tripduration  start station id  start station latitude  \\\n",
       "count      955210.0          955210.0                955210.0   \n",
       "mean          831.0            1667.0                    41.0   \n",
       "std         10786.0            1493.0                     0.0   \n",
       "min            61.0              72.0                    41.0   \n",
       "25%           320.0             380.0                    41.0   \n",
       "50%           522.0             509.0                    41.0   \n",
       "75%           876.0            3311.0                    41.0   \n",
       "max       3304262.0            3911.0                    41.0   \n",
       "\n",
       "       start station longitude  end station id  end station latitude  \\\n",
       "count                 955210.0        955210.0              955210.0   \n",
       "mean                     -74.0          1647.0                  41.0   \n",
       "std                        0.0          1491.0                   0.0   \n",
       "min                      -74.0            72.0                  41.0   \n",
       "25%                      -74.0           379.0                  41.0   \n",
       "50%                      -74.0           507.0                  41.0   \n",
       "75%                      -74.0          3307.0                  41.0   \n",
       "max                      -74.0          3911.0                  41.0   \n",
       "\n",
       "       end station longitude    bikeid  birth year  \n",
       "count               955210.0  955210.0    955210.0  \n",
       "mean                   -74.0   32916.0      1979.0  \n",
       "std                      0.0    7997.0        13.0  \n",
       "min                    -74.0   14529.0      1885.0  \n",
       "25%                    -74.0   28716.0      1969.0  \n",
       "50%                    -74.0   34101.0      1982.0  \n",
       "75%                    -74.0   39839.0      1990.0  \n",
       "max                    -74.0   42046.0      2003.0  "
      ]
     },
     "execution_count": 8,
     "metadata": {},
     "output_type": "execute_result"
    }
   ],
   "source": [
    "#Convert variables to the correct data format types\n",
    "df['start station name'] = df['start station name'].astype('category')\n",
    "df['end station name'] = df['end station name'].astype('category')\n",
    "df['usertype'] = df['usertype'].astype('category')\n",
    "df['gender'] = df['gender'].astype('category')\n",
    "round(df.describe())\n"
   ]
  },
  {
   "cell_type": "code",
   "execution_count": 9,
   "metadata": {},
   "outputs": [],
   "source": [
    "#Rename columns in data frame\n",
    "df.columns = [j.replace(' ', '_') for j in df.columns]"
   ]
  },
  {
   "cell_type": "code",
   "execution_count": 10,
   "metadata": {},
   "outputs": [],
   "source": [
    "#Exclude bike trips that record trip duration as <90s and which start station & end station is the same. \n",
    "#This takes care of faulty bikes that users may have picked up, then realised that they were faulty and returned them back to the same station, typically within 90s.\n",
    "df = df.drop(df.index[(df['tripduration'] < 90) & \n",
    "                          (df['start_station_latitude'] == df['start_station_latitude'])])"
   ]
  },
  {
   "cell_type": "code",
   "execution_count": 11,
   "metadata": {},
   "outputs": [],
   "source": [
    "trips_df1 = df.groupby('start_station_name').size().reset_index(name = 'number_of_trips')\n",
    "trips_df1.sort_values('number_of_trips', ascending = False, inplace = True)\n",
    "trips_df1.columns=['station_name','number_of_trips']\n",
    "# trips_df1"
   ]
  },
  {
   "cell_type": "code",
   "execution_count": 12,
   "metadata": {},
   "outputs": [],
   "source": [
    "trips_df = trips_df1\n",
    "# trips_df"
   ]
  },
  {
   "cell_type": "code",
   "execution_count": 13,
   "metadata": {},
   "outputs": [
    {
     "data": {
      "text/html": [
       "<div>\n",
       "<style scoped>\n",
       "    .dataframe tbody tr th:only-of-type {\n",
       "        vertical-align: middle;\n",
       "    }\n",
       "\n",
       "    .dataframe tbody tr th {\n",
       "        vertical-align: top;\n",
       "    }\n",
       "\n",
       "    .dataframe thead th {\n",
       "        text-align: right;\n",
       "    }\n",
       "</style>\n",
       "<table border=\"1\" class=\"dataframe\">\n",
       "  <thead>\n",
       "    <tr style=\"text-align: right;\">\n",
       "      <th></th>\n",
       "      <th>number_of_trips</th>\n",
       "    </tr>\n",
       "  </thead>\n",
       "  <tbody>\n",
       "    <tr>\n",
       "      <th>count</th>\n",
       "      <td>881.000000</td>\n",
       "    </tr>\n",
       "    <tr>\n",
       "      <th>mean</th>\n",
       "      <td>1076.526674</td>\n",
       "    </tr>\n",
       "    <tr>\n",
       "      <th>std</th>\n",
       "      <td>1132.874232</td>\n",
       "    </tr>\n",
       "    <tr>\n",
       "      <th>min</th>\n",
       "      <td>4.000000</td>\n",
       "    </tr>\n",
       "    <tr>\n",
       "      <th>25%</th>\n",
       "      <td>243.000000</td>\n",
       "    </tr>\n",
       "    <tr>\n",
       "      <th>50%</th>\n",
       "      <td>655.000000</td>\n",
       "    </tr>\n",
       "    <tr>\n",
       "      <th>75%</th>\n",
       "      <td>1599.000000</td>\n",
       "    </tr>\n",
       "    <tr>\n",
       "      <th>max</th>\n",
       "      <td>7541.000000</td>\n",
       "    </tr>\n",
       "  </tbody>\n",
       "</table>\n",
       "</div>"
      ],
      "text/plain": [
       "       number_of_trips\n",
       "count       881.000000\n",
       "mean       1076.526674\n",
       "std        1132.874232\n",
       "min           4.000000\n",
       "25%         243.000000\n",
       "50%         655.000000\n",
       "75%        1599.000000\n",
       "max        7541.000000"
      ]
     },
     "execution_count": 13,
     "metadata": {},
     "output_type": "execute_result"
    }
   ],
   "source": [
    "trips_df.describe()"
   ]
  },
  {
   "cell_type": "code",
   "execution_count": 14,
   "metadata": {},
   "outputs": [
    {
     "data": {
      "text/plain": [
       "Text(0, 0.5, 'Count')"
      ]
     },
     "execution_count": 14,
     "metadata": {},
     "output_type": "execute_result"
    },
    {
     "data": {
      "image/png": "[encoded data removed]",
      "text/plain": [
       "<Figure size 576x360 with 1 Axes>"
      ]
     },
     "metadata": {
      "needs_background": "light"
     },
     "output_type": "display_data"
    }
   ],
   "source": [
    "# Plot the distribution of number of trips \n",
    "plt.rcParams.update({'font.size': 16})\n",
    "trips_df['number_of_trips'].hist(figsize = (8,5), bins = 20, alpha = 0.5, color = 'orange')\n",
    "plt.title('Distribution of Number of Trips')\n",
    "plt.xlabel('Number of Trips')\n",
    "plt.ylabel('Count')"
   ]
  },
  {
   "cell_type": "code",
   "execution_count": 15,
   "metadata": {},
   "outputs": [],
   "source": [
    "#Define frequency of trips by \"high\", \"low\"\n",
    "trips_df['Frequency of Trips'] = np.where(trips_df['number_of_trips'] > 1599, 1, 0)\n",
    "# trips_df"
   ]
  },
  {
   "cell_type": "code",
   "execution_count": 16,
   "metadata": {},
   "outputs": [],
   "source": [
    "trips_df = trips_df.drop(['number_of_trips'], axis = 1)\n",
    "# trips_df"
   ]
  },
  {
   "cell_type": "code",
   "execution_count": 17,
   "metadata": {},
   "outputs": [
    {
     "data": {
      "text/plain": [
       "0    662\n",
       "1    219\n",
       "Name: Frequency of Trips, dtype: int64"
      ]
     },
     "execution_count": 17,
     "metadata": {},
     "output_type": "execute_result"
    }
   ],
   "source": [
    "trips_df['Frequency of Trips'].value_counts()"
   ]
  },
  {
   "cell_type": "code",
   "execution_count": 18,
   "metadata": {},
   "outputs": [],
   "source": [
    "trips_df.to_csv('Misc_Files/Number_of_trips_Dec_Month.txt', index = False, header = False)"
   ]
  },
  {
   "cell_type": "code",
   "execution_count": 19,
   "metadata": {},
   "outputs": [],
   "source": [
    "node_df = df[['start_station_name', 'end_station_name']]"
   ]
  },
  {
   "cell_type": "code",
   "execution_count": 20,
   "metadata": {},
   "outputs": [],
   "source": [
    "node_df.to_csv('Misc_Files/Nodes.txt', index = False, header = False)"
   ]
  },
  {
   "cell_type": "markdown",
   "metadata": {},
   "source": [
    "#### Majority Voting Method"
   ]
  },
  {
   "cell_type": "markdown",
   "metadata": {},
   "source": [
    "Most of the codes in this section have been taken from the class notes and have been transformed for our project data and use-case. The majority voting method here has been tried for different number of iterations to observe if there is any noticeable change in the model accuracy and results."
   ]
  },
  {
   "cell_type": "code",
   "execution_count": 21,
   "metadata": {},
   "outputs": [],
   "source": [
    "import networkx as nx\n",
    "\n",
    "# read graph\n",
    "g = nx.Graph()\n",
    "with open('Misc_Files/Nodes.txt', 'r') as fin:\n",
    "        next(fin)\n",
    "        for line in fin:\n",
    "            #print(line)\n",
    "            parts = line.strip().split(',')\n",
    "            g.add_edge(parts[0], parts[1])\n",
    "            \n",
    "# declare node labels \n",
    "labels = {}\n",
    "\n",
    "with open('Misc_Files/Number_of_trips_Dec_Month.txt', 'r') as fin:\n",
    "    for line in fin:\n",
    "        cols = line.strip().split(',')        \n",
    "        node = cols[0]\n",
    "        #l.append(cols[1])\n",
    "        if cols[1] == '1':\n",
    "            labels[node] = 1\n",
    "        else:\n",
    "            labels[node] = 0"
   ]
  },
  {
   "cell_type": "code",
   "execution_count": 22,
   "metadata": {},
   "outputs": [],
   "source": [
    "g.remove_node('Sip Ave')"
   ]
  },
  {
   "cell_type": "code",
   "execution_count": 23,
   "metadata": {},
   "outputs": [],
   "source": [
    "import numpy as np\n",
    "\n",
    "train_labels = {}\n",
    "\n",
    "np.random.seed(10)\n",
    "# setting the seed ensures that every time we run the code, the same 200 nodes are sampled\n",
    "# if you change the seed value, a different 200 nodes will be sampled\n",
    "\n",
    "sampled = np.random.choice(list(labels.keys()), size = 100, replace = False)\n",
    "\n",
    "\n",
    "# add sampled nodes and their corresponding labels to train_labels\n",
    "for node in sampled:\n",
    "    train_labels[node] = labels[node] "
   ]
  },
  {
   "cell_type": "code",
   "execution_count": 24,
   "metadata": {},
   "outputs": [
    {
     "data": {
      "text/plain": [
       "100"
      ]
     },
     "execution_count": 24,
     "metadata": {},
     "output_type": "execute_result"
    }
   ],
   "source": [
    "len(train_labels)"
   ]
  },
  {
   "cell_type": "code",
   "execution_count": 25,
   "metadata": {},
   "outputs": [],
   "source": [
    "def majority_voting(g, train_labels, iteration=100):\n",
    "    '''\n",
    "    g: the graph\n",
    "    train_labels: a dictionary containing (node id, label) for labeled training nodes.\n",
    "    iteration: number of iterations to run\n",
    "    return the labels of the unlabeled test nodes as a dictionary\n",
    "    '''\n",
    "    \n",
    "    # initial state \n",
    "    # only nodes in the training data gets a initial label\n",
    "    f = {}\n",
    "    for node in g.nodes:\n",
    "        if node in train_labels:\n",
    "            f[node] = train_labels[node]\n",
    "        else:\n",
    "            f[node] = None\n",
    "\n",
    "    \n",
    "    # run for multiple iterations\n",
    "    for iter in range(iteration):\n",
    "        # find majority class for each unlabeled node\n",
    "        f_new = {}\n",
    "        for node in g.nodes:\n",
    "            if node in train_labels:\n",
    "                # do not change the label for labeled training nodes\n",
    "                f_new[node] = train_labels[node]  \n",
    "            else:\n",
    "                # majority voting for unlabeled test nodes\n",
    "                # count number of neighbors with different labels\n",
    "                votes_1 = 0\n",
    "                votes_0 = 0\n",
    "                for nb in g[node]:\n",
    "                    if f[nb] == 1:\n",
    "                        votes_1 += 1\n",
    "                    elif f[nb] == 0:\n",
    "                        votes_0 += 1\n",
    "                if votes_1 == 0 and votes_0 == 0:\n",
    "                    f_new[node] = None\n",
    "                elif votes_1 >= votes_0:\n",
    "                    f_new[node] = 1\n",
    "                else:\n",
    "                    f_new[node] = 0\n",
    "        f = f_new\n",
    "    \n",
    "    # only return the predicted labels of unlabeled test nodes\n",
    "    # i.e. those nodes not in training data\n",
    "    pred = {}\n",
    "    for node in f:\n",
    "        if node not in train_labels:\n",
    "            if f[node] == 1:\n",
    "                pred[node] = 1\n",
    "            else:\n",
    "                pred[node] = 0\n",
    "            \n",
    "    return pred"
   ]
  },
  {
   "cell_type": "code",
   "execution_count": 26,
   "metadata": {},
   "outputs": [],
   "source": [
    "pred = majority_voting(g, train_labels)"
   ]
  },
  {
   "cell_type": "code",
   "execution_count": 27,
   "metadata": {},
   "outputs": [
    {
     "name": "stdout",
     "output_type": "stream",
     "text": [
      "accuracy = 0.7592829705505761\n",
      "f1 = 0.6690140845070423\n"
     ]
    }
   ],
   "source": [
    "from sklearn.metrics import accuracy_score\n",
    "from sklearn.metrics import f1_score\n",
    "\n",
    "# prepare list of predictions and groundtruth labels\n",
    "# the two list must contain the test nodes in the same order\n",
    "pred_list = []\n",
    "groundtruth_list = []\n",
    "for node in g.nodes:\n",
    "    if node not in train_labels:\n",
    "        pred_list.append(pred[node])\n",
    "        #print(node)\n",
    "        groundtruth_list.append(labels[node])\n",
    "    \n",
    "# compute accuracy and f1-score\n",
    "print('accuracy =', accuracy_score(groundtruth_list, pred_list))\n",
    "print('f1 =', f1_score(groundtruth_list, pred_list))"
   ]
  },
  {
   "cell_type": "code",
   "execution_count": 28,
   "metadata": {},
   "outputs": [],
   "source": [
    "def majority_voting(g, train_labels, iteration=200):\n",
    "    '''\n",
    "    g: the graph\n",
    "    train_labels: a dictionary containing (node id, label) for labeled training nodes.\n",
    "    iteration: number of iterations to run\n",
    "    return the labels of the unlabeled test nodes as a dictionary\n",
    "    '''\n",
    "    \n",
    "    # initial state \n",
    "    # only nodes in the training data gets a initial label\n",
    "    f = {}\n",
    "    for node in g.nodes:\n",
    "        if node in train_labels:\n",
    "            f[node] = train_labels[node]\n",
    "        else:\n",
    "            f[node] = None\n",
    "\n",
    "    \n",
    "    # run for multiple iterations\n",
    "    for iter in range(iteration):\n",
    "        # find majority class for each unlabeled node\n",
    "        f_new = {}\n",
    "        for node in g.nodes:\n",
    "            if node in train_labels:\n",
    "                # do not change the label for labeled training nodes\n",
    "                f_new[node] = train_labels[node]  \n",
    "            else:\n",
    "                # majority voting for unlabeled test nodes\n",
    "                # count number of neighbors with different labels\n",
    "                votes_1 = 0\n",
    "                votes_0 = 0\n",
    "                for nb in g[node]:\n",
    "                    if f[nb] == 1:\n",
    "                        votes_1 += 1\n",
    "                    elif f[nb] == 0:\n",
    "                        votes_0 += 1\n",
    "                if votes_1 == 0 and votes_0 == 0:\n",
    "                    f_new[node] = None\n",
    "                elif votes_1 >= votes_0:\n",
    "                    f_new[node] = 1\n",
    "                else:\n",
    "                    f_new[node] = 0\n",
    "        f = f_new\n",
    "    \n",
    "    # only return the predicted labels of unlabeled test nodes\n",
    "    # i.e. those nodes not in training data\n",
    "    pred = {}\n",
    "    for node in f:\n",
    "        if node not in train_labels:\n",
    "            if f[node] == 1:\n",
    "                pred[node] = 1\n",
    "            else:\n",
    "                pred[node] = 0\n",
    "            \n",
    "    return pred"
   ]
  },
  {
   "cell_type": "code",
   "execution_count": 29,
   "metadata": {},
   "outputs": [],
   "source": [
    "pred = majority_voting(g, train_labels)"
   ]
  },
  {
   "cell_type": "code",
   "execution_count": 30,
   "metadata": {},
   "outputs": [
    {
     "name": "stdout",
     "output_type": "stream",
     "text": [
      "accuracy = 0.7592829705505761\n",
      "f1 = 0.6690140845070423\n"
     ]
    }
   ],
   "source": [
    "from sklearn.metrics import accuracy_score\n",
    "from sklearn.metrics import f1_score\n",
    "\n",
    "# prepare list of predictions and groundtruth labels\n",
    "# the two list must contain the test nodes in the same order\n",
    "pred_list = []\n",
    "groundtruth_list = []\n",
    "for node in g.nodes:\n",
    "    if node not in train_labels:\n",
    "        pred_list.append(pred[node])\n",
    "        groundtruth_list.append(labels[node])\n",
    "\n",
    "# compute accuracy and f1-score\n",
    "print('accuracy =', accuracy_score(groundtruth_list, pred_list))\n",
    "print('f1 =', f1_score(groundtruth_list, pred_list))"
   ]
  },
  {
   "cell_type": "code",
   "execution_count": 31,
   "metadata": {},
   "outputs": [],
   "source": [
    "def majority_voting(g, train_labels, iteration=500):\n",
    "    '''\n",
    "    g: the graph\n",
    "    train_labels: a dictionary containing (node id, label) for labeled training nodes.\n",
    "    iteration: number of iterations to run\n",
    "    return the labels of the unlabeled test nodes as a dictionary\n",
    "    '''\n",
    "    \n",
    "    # initial state \n",
    "    # only nodes in the training data gets a initial label\n",
    "    f = {}\n",
    "    for node in g.nodes:\n",
    "        if node in train_labels:\n",
    "            f[node] = train_labels[node]\n",
    "        else:\n",
    "            f[node] = None\n",
    "\n",
    "    \n",
    "    # run for multiple iterations\n",
    "    for iter in range(iteration):\n",
    "        # find majority class for each unlabeled node\n",
    "        f_new = {}\n",
    "        for node in g.nodes:\n",
    "            if node in train_labels:\n",
    "                # do not change the label for labeled training nodes\n",
    "                f_new[node] = train_labels[node]  \n",
    "            else:\n",
    "                # majority voting for unlabeled test nodes\n",
    "                # count number of neighbors with different labels\n",
    "                votes_1 = 0\n",
    "                votes_0 = 0\n",
    "                for nb in g[node]:\n",
    "                    if f[nb] == 1:\n",
    "                        votes_1 += 1\n",
    "                    elif f[nb] == 0:\n",
    "                        votes_0 += 1\n",
    "                if votes_1 == 0 and votes_0 == 0:\n",
    "                    f_new[node] = None\n",
    "                elif votes_1 >= votes_0:\n",
    "                    f_new[node] = 1\n",
    "                else:\n",
    "                    f_new[node] = 0\n",
    "        f = f_new\n",
    "    \n",
    "    # only return the predicted labels of unlabeled test nodes\n",
    "    # i.e. those nodes not in training data\n",
    "    pred = {}\n",
    "    for node in f:\n",
    "        if node not in train_labels:\n",
    "            if f[node] == 1:\n",
    "                pred[node] = 1\n",
    "            else:\n",
    "                pred[node] = 0\n",
    "            \n",
    "    return pred"
   ]
  },
  {
   "cell_type": "code",
   "execution_count": 32,
   "metadata": {},
   "outputs": [],
   "source": [
    "pred = majority_voting(g, train_labels)"
   ]
  },
  {
   "cell_type": "code",
   "execution_count": 33,
   "metadata": {},
   "outputs": [
    {
     "name": "stdout",
     "output_type": "stream",
     "text": [
      "accuracy = 0.7592829705505761\n",
      "f1 = 0.6690140845070423\n"
     ]
    }
   ],
   "source": [
    "from sklearn.metrics import accuracy_score\n",
    "from sklearn.metrics import f1_score\n",
    "\n",
    "# prepare list of predictions and groundtruth labels\n",
    "# the two list must contain the test nodes in the same order\n",
    "pred_list = []\n",
    "groundtruth_list = []\n",
    "for node in g.nodes:\n",
    "    if node not in train_labels:\n",
    "        pred_list.append(pred[node])\n",
    "        groundtruth_list.append(labels[node])\n",
    "\n",
    "# compute accuracy and f1-score\n",
    "print('accuracy =', accuracy_score(groundtruth_list, pred_list))\n",
    "print('f1 =', f1_score(groundtruth_list, pred_list))"
   ]
  },
  {
   "cell_type": "markdown",
   "metadata": {},
   "source": [
    "#### Label averaging algorithm"
   ]
  },
  {
   "cell_type": "markdown",
   "metadata": {},
   "source": [
    "The code for this algorithm has also been taken from the class notes and has been reformed for our project pruposes. "
   ]
  },
  {
   "cell_type": "code",
   "execution_count": 34,
   "metadata": {},
   "outputs": [],
   "source": [
    "import networkx as nx\n",
    "import numpy as np\n",
    "\n",
    "# read graph\n",
    "g = nx.Graph()\n",
    "with open('Misc_Files/Nodes.txt', 'r') as fin:\n",
    "        next(fin)\n",
    "        for line in fin:\n",
    "            #print(line)\n",
    "            parts = line.strip().split(',')\n",
    "            g.add_edge(parts[0], parts[1])\n",
    "            \n",
    "# declare node labels \n",
    "labels = {}\n",
    "\n",
    "with open('Misc_Files/Number_of_trips_Dec_Month.txt', 'r') as fin:\n",
    "    for line in fin:\n",
    "        cols = line.strip().split(',')        \n",
    "        node = cols[0]\n",
    "        if cols[1] == '1':\n",
    "            labels[node] = 1\n",
    "        else:\n",
    "            labels[node] = 0\n",
    "\n",
    "# splitting training and test data\n",
    "train_labels = {}\n",
    "np.random.seed(120)\n",
    "# setting the seed ensures that every time we run the code, the same 100 nodes will be sampled\n",
    "# if you change the seed value, a different 100 nodes will be sampled\n",
    "\n",
    "sampled = np.random.choice(list(labels.keys()), size = 100, replace = False)\n",
    "\n",
    "# add sampled nodes and their corresponding labels to train_labels\n",
    "for node in sampled:\n",
    "    train_labels[node] = labels[node] "
   ]
  },
  {
   "cell_type": "code",
   "execution_count": 35,
   "metadata": {},
   "outputs": [],
   "source": [
    "g.remove_node('Sip Ave')"
   ]
  },
  {
   "cell_type": "code",
   "execution_count": 36,
   "metadata": {},
   "outputs": [],
   "source": [
    "# define a function to run label averaging algorithm\n",
    "def label_averaging(g, train_labels, threshold, iteration=100):\n",
    "    '''\n",
    "    g: the affinity graph\n",
    "    train_labels: a dictionary containing (node id, label) for labeled nodes.\n",
    "    iteration: number of iterations to run\n",
    "    threshold: the treshold for prediction\n",
    "    return the labels of the unlabeled nodes as a dictionary\n",
    "    '''\n",
    "    \n",
    "    # initial state \n",
    "    f = {}\n",
    "    for i in g.nodes:\n",
    "        if i in train_labels:\n",
    "            f[i] = train_labels[i]\n",
    "        else:\n",
    "            f[i] = 0\n",
    "\n",
    "    \n",
    "    # run for multiple iterations\n",
    "    for iter in range(iteration):\n",
    "        f_new = {}\n",
    "        for i in g.nodes:\n",
    "            if i in train_labels:\n",
    "                f_new[i] = train_labels[i]  # fix the score for labeled nodes\n",
    "            else:\n",
    "                # taking average of neighbors\n",
    "                sum = 0\n",
    "                for j in g[i]:\n",
    "                    sum += f[j] \n",
    "                f_new[i] = sum / len(g[i])\n",
    "        f = f_new\n",
    "    \n",
    "    # make predictions (0 or 1) based on the threshold \n",
    "    pred = { i: 1 if f[i] > threshold else 0 for i in f}\n",
    "    \n",
    "    # only return the predicted labels of unlabeled test nodes\n",
    "    for i in train_labels:\n",
    "        del pred[i]\n",
    "    return pred\n",
    "\n",
    "# call the function above to get the predictions on the test data.\n",
    "#We are using small treshold here as we are dealing with an imbalanced dataset: There are much fewer instances of class 1, and it would be difficult for the scores to go above 0.5. Thus, a small threshold is preferred here.\n",
    "pred = label_averaging(g, train_labels, 0.2)"
   ]
  },
  {
   "cell_type": "code",
   "execution_count": 37,
   "metadata": {},
   "outputs": [
    {
     "name": "stdout",
     "output_type": "stream",
     "text": [
      "accuracy = 0.25224071702944945\n",
      "f1 = 0.4028629856850716\n"
     ]
    }
   ],
   "source": [
    "from sklearn.metrics import accuracy_score\n",
    "from sklearn.metrics import f1_score\n",
    "\n",
    "# prepare list of predictions and groundtruth labels\n",
    "# the two list must contain the test nodes in the same order\n",
    "pred_list = []\n",
    "groundtruth_list = []\n",
    "for node in g.nodes:\n",
    "    if node not in train_labels:\n",
    "        pred_list.append(pred[node])\n",
    "        groundtruth_list.append(labels[node])\n",
    "\n",
    "# compute accuracy and f1-score\n",
    "print('accuracy =', accuracy_score(groundtruth_list, pred_list))\n",
    "print('f1 =', f1_score(groundtruth_list, pred_list))"
   ]
  },
  {
   "cell_type": "code",
   "execution_count": 38,
   "metadata": {},
   "outputs": [],
   "source": [
    "#Re-run Label averging using different threshold 0.25\n",
    "pred = label_averaging(g, train_labels, 0.25)"
   ]
  },
  {
   "cell_type": "code",
   "execution_count": 39,
   "metadata": {},
   "outputs": [
    {
     "name": "stdout",
     "output_type": "stream",
     "text": [
      "accuracy = 0.26888604353393086\n",
      "f1 = 0.4082901554404145\n"
     ]
    }
   ],
   "source": [
    "from sklearn.metrics import accuracy_score\n",
    "from sklearn.metrics import f1_score\n",
    "\n",
    "# prepare list of predictions and groundtruth labels\n",
    "# the two list must contain the test nodes in the same order\n",
    "pred_list = []\n",
    "groundtruth_list = []\n",
    "for node in g.nodes:\n",
    "    if node not in train_labels:\n",
    "        pred_list.append(pred[node])\n",
    "        groundtruth_list.append(labels[node])\n",
    "\n",
    "# compute accuracy and f1-score\n",
    "print('accuracy =', accuracy_score(groundtruth_list, pred_list))\n",
    "print('f1 =', f1_score(groundtruth_list, pred_list))"
   ]
  },
  {
   "cell_type": "code",
   "execution_count": 40,
   "metadata": {},
   "outputs": [
    {
     "name": "stdout",
     "output_type": "stream",
     "text": [
      "accuracy = 0.5211267605633803\n",
      "f1 = 0.5130208333333334\n"
     ]
    }
   ],
   "source": [
    "#Re-run Label averging using different threshold\n",
    "pred = label_averaging(g, train_labels, 0.3)\n",
    "\n",
    "from sklearn.metrics import accuracy_score\n",
    "from sklearn.metrics import f1_score\n",
    "\n",
    "# prepare list of predictions and groundtruth labels\n",
    "# the two list must contain the test nodes in the same order\n",
    "pred_list = []\n",
    "groundtruth_list = []\n",
    "for node in g.nodes:\n",
    "    if node not in train_labels:\n",
    "        pred_list.append(pred[node])\n",
    "        groundtruth_list.append(labels[node])\n",
    "\n",
    "# compute accuracy and f1-score\n",
    "print('accuracy =', accuracy_score(groundtruth_list, pred_list))\n",
    "print('f1 =', f1_score(groundtruth_list, pred_list))"
   ]
  },
  {
   "cell_type": "code",
   "execution_count": 41,
   "metadata": {},
   "outputs": [
    {
     "name": "stdout",
     "output_type": "stream",
     "text": [
      "       Classification Method Accuracy      F1\n",
      "0            Majority Voting   0.7592  0.6690\n",
      "1  Label Averaging Algorithm   0.5211  0.5130\n"
     ]
    }
   ],
   "source": [
    "import pandas as pd\n",
    "\n",
    "data = {'Classification Method':  ['Majority Voting', 'Label Averaging Algorithm'],\n",
    "        'Accuracy': ['0.7592', '0.5211'],\n",
    "        'F1': ['0.6690', '0.5130']        \n",
    "        }\n",
    "\n",
    "df = pd.DataFrame (data, columns = ['Classification Method','Accuracy','F1'])\n",
    "print(df)"
   ]
  },
  {
   "cell_type": "markdown",
   "metadata": {},
   "source": [
    "### Results"
   ]
  },
  {
   "cell_type": "markdown",
   "metadata": {},
   "source": [
    "From the results it can be observed that the Majority voting method gives better results and hence has been chosen. The details for the same are included in the project report. "
   ]
  }
 ],
 "metadata": {
  "kernelspec": {
   "display_name": "Python 3",
   "language": "python",
   "name": "python3"
  },
  "language_info": {
   "codemirror_mode": {
    "name": "ipython",
    "version": 3
   },
   "file_extension": ".py",
   "mimetype": "text/x-python",
   "name": "python",
   "nbconvert_exporter": "python",
   "pygments_lexer": "ipython3",
   "version": "3.7.3"
  }
 },
 "nbformat": 4,
 "nbformat_minor": 2
}
